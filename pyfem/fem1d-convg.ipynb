{
 "cells": [
  {
   "cell_type": "code",
   "execution_count": null,
   "metadata": {
    "collapsed": true
   },
   "outputs": [],
   "source": [
    "%matplotlib inline"
   ]
  },
  {
   "cell_type": "code",
   "execution_count": null,
   "metadata": {
    "collapsed": true
   },
   "outputs": [],
   "source": [
    "import numpy as np\n",
    "import matplotlib.pyplot as plt\n",
    "import scipy.sparse as sps\n",
    "import scipy.sparse.linalg"
   ]
  },
  {
   "cell_type": "code",
   "execution_count": null,
   "metadata": {
    "collapsed": true
   },
   "outputs": [],
   "source": [
    "from topo import IntervalTopo1D\n",
    "from basis import LagrangeBasis1D, LobattoBasis1D\n",
    "from mesh import Mesh1D\n",
    "from assemble import simple_assembly, simple_build_rhs"
   ]
  },
  {
   "cell_type": "code",
   "execution_count": null,
   "metadata": {
    "collapsed": false
   },
   "outputs": [],
   "source": [
    "L = 2*np.pi\n",
    "k = 5\n",
    "\n",
    "def f(x):\n",
    "    return np.sin(k*2*np.pi*x/L)\n",
    "\n",
    "def f2(x):\n",
    "    return -(k*2*np.pi/L)**2*f(x)\n",
    "\n",
    "errs = {}\n",
    "order_vals = [1,2,3,4,5]\n",
    "for order in order_vals:\n",
    "    errs[order] = []\n",
    "    for n_elems in [16, 32]:\n",
    "\n",
    "        nodes = np.linspace(0, L, n_elems+1)\n",
    "        elem_to_node = np.zeros((n_elems, 2), dtype=np.int)\n",
    "        elem_to_node[:,0] = np.arange(n_elems)\n",
    "        elem_to_node[:,1] = np.arange(n_elems)+1\n",
    "\n",
    "        topo  = IntervalTopo1D()\n",
    "        basis = LobattoBasis1D(topo, order)\n",
    "        mesh  = Mesh1D(topo, basis)\n",
    "        mesh.build_mesh(nodes, elem_to_node, [0,-1])\n",
    "\n",
    "        cub_points, cub_weights = topo.get_quadrature(order+1)\n",
    "\n",
    "        Kloc = np.zeros((basis.n_dofs, basis.n_dofs),\n",
    "                         dtype=np.double)\n",
    "        cub_vals = basis.eval_ref(np.eye(basis.n_dofs),\n",
    "                                  cub_points, d=1)\n",
    "\n",
    "        for i in range(basis.n_dofs):\n",
    "            for j in range(basis.n_dofs):\n",
    "                Kloc[i,j] = np.sum(cub_vals[i]*cub_vals[j]*cub_weights)\n",
    "\n",
    "        K = simple_assembly(mesh, Kloc)\n",
    "        rhs = simple_build_rhs(topo, basis, mesh, f2)\n",
    "\n",
    "        sol = sps.linalg.spsolve(K, rhs)\n",
    "\n",
    "        x_vals = np.linspace(0, L, mesh.n_elems+1)\n",
    "        x_vals = (x_vals[:-1]+x_vals[1:])/2.0\n",
    "        s = basis.eval_ref(sol[mesh.elem_to_dof], np.array([0.0])).ravel()\n",
    "\n",
    "        h = L/n_elems\n",
    "        err = h*np.linalg.norm(s-f(x_vals))\n",
    "        err = np.max(np.abs(s-f(x_vals)))\n",
    "        errs[order].append(err)\n",
    "    "
   ]
  },
  {
   "cell_type": "code",
   "execution_count": null,
   "metadata": {
    "collapsed": false
   },
   "outputs": [],
   "source": [
    "for order in order_vals:\n",
    "    print order, -np.log2(errs[order][1]/errs[order][0])"
   ]
  },
  {
   "cell_type": "code",
   "execution_count": null,
   "metadata": {
    "collapsed": true
   },
   "outputs": [],
   "source": []
  }
 ],
 "metadata": {
  "kernelspec": {
   "display_name": "Python 2",
   "language": "python",
   "name": "python2"
  },
  "language_info": {
   "codemirror_mode": {
    "name": "ipython",
    "version": 2
   },
   "file_extension": ".py",
   "mimetype": "text/x-python",
   "name": "python",
   "nbconvert_exporter": "python",
   "pygments_lexer": "ipython2",
   "version": "2.7.6"
  }
 },
 "nbformat": 4,
 "nbformat_minor": 0
}
