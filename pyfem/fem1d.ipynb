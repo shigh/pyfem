{
 "cells": [
  {
   "cell_type": "code",
   "execution_count": null,
   "metadata": {
    "collapsed": true
   },
   "outputs": [],
   "source": [
    "%matplotlib inline"
   ]
  },
  {
   "cell_type": "code",
   "execution_count": null,
   "metadata": {
    "collapsed": true
   },
   "outputs": [],
   "source": [
    "import numpy as np\n",
    "import matplotlib.pyplot as plt\n",
    "from scipy.special.orthogonal import p_roots\n",
    "import scipy.sparse as sps\n",
    "import scipy.sparse.linalg"
   ]
  },
  {
   "cell_type": "code",
   "execution_count": null,
   "metadata": {
    "collapsed": true
   },
   "outputs": [],
   "source": [
    "class IntervalTopo1D(object):\n",
    "    \n",
    "    interval = (-1.0, 1.0)\n",
    "    h        = 2.0\n",
    "    \n",
    "    def calc_jacb(self, nodes):\n",
    "        do_ravel = nodes.ndim==1\n",
    "        if do_ravel:\n",
    "            nodes = nodes.reshape((1,-1))\n",
    "        \n",
    "        jacb = (nodes[:,1]-nodes[:,0])/self.h\n",
    "        assert np.all(jacb!=0.0)\n",
    "        \n",
    "        if do_ravel: return jacb.ravel()\n",
    "        return jacb\n",
    "    \n",
    "    def calc_jacb_det(self, jacb):\n",
    "        return jacb\n",
    "    \n",
    "    def calc_jacb_inv(self, jacb):\n",
    "        return 1.0/jacb\n",
    "    \n",
    "    def calc_jacb_inv_det(self, jacb):\n",
    "        return 1.0/jacb\n",
    "    \n",
    "    def get_quadrature(self, n):\n",
    "        return p_roots(n)\n",
    "    \n",
    "    def ref_to_phys(self, nodes, ref):\n",
    "        do_ravel = nodes.ndim==1\n",
    "        if do_ravel:\n",
    "            nodes = nodes.reshape((1,-1))\n",
    "        \n",
    "        a = nodes[:,0].reshape((-1,1))\n",
    "        b = (nodes[:,1]-nodes[:,0])\n",
    "        b = b.reshape((-1,1))\n",
    "        phys = a+b*(ref+1)/self.h\n",
    "        \n",
    "        if do_ravel: return phys.ravel()\n",
    "        return phys\n",
    "    \n",
    "    def phys_to_ref(self, nodes, phys):\n",
    "        pass"
   ]
  },
  {
   "cell_type": "code",
   "execution_count": null,
   "metadata": {
    "collapsed": false
   },
   "outputs": [],
   "source": [
    "class Mesh1D(object):\n",
    "    \n",
    "    def __init__(self, topo, basis):\n",
    "        self.topo = topo\n",
    "        self.basis = basis\n",
    "        \n",
    "    def build_mesh(self, nodes, elem_to_node, boundary_nodes=[]):\n",
    "        self.nodes = nodes\n",
    "        self.elem_to_node = elem_to_node\n",
    "        \n",
    "        self.n_elems  = elem_to_node.shape[0]\n",
    "        self.n_nodes  = len(nodes)\n",
    "        self.n_dofs   = (self.basis.n_dofs-1)*self.n_elems+1\n",
    "        self.jacb     = self.topo.calc_jacb(nodes[elem_to_node])\n",
    "        self.jacb_det = self.topo.calc_jacb_det(self.jacb)\n",
    "        self.jacb_inv = self.topo.calc_jacb_inv(self.jacb)\n",
    "        self.jacb_inv_det = self.topo.calc_jacb_inv_det(self.jacb)\n",
    "        \n",
    "        elem_to_dof = np.zeros((self.n_elems, self.basis.n_dofs),\n",
    "                               dtype=np.int)\n",
    "        \n",
    "        basis = self.basis\n",
    "        assert basis.n_dofs_per_node==1\n",
    "        node_to_dof = np.arange(self.n_nodes)\n",
    "        node_dofs = basis.node_dofs.ravel()\n",
    "        elem_to_dof[:,node_dofs] = node_to_dof[elem_to_node]\n",
    "        \n",
    "        n_center_dofs = self.n_elems*basis.n_dofs_per_center\n",
    "        center_dofs = np.arange(n_center_dofs)+len(node_to_dof)\n",
    "        center_dofs = center_dofs.reshape((self.n_elems,\n",
    "                                           basis.n_dofs_per_center))\n",
    "        elem_to_dof[:,basis.center_dofs] = center_dofs\n",
    "                                          \n",
    "        self.boundary_dofs = node_to_dof[boundary_nodes]\n",
    "        self.elem_to_dof = elem_to_dof"
   ]
  },
  {
   "cell_type": "code",
   "execution_count": null,
   "metadata": {
    "collapsed": true
   },
   "outputs": [],
   "source": [
    "class LagrangeBasis1D(object):\n",
    "    \n",
    "    def __init__(self, order):\n",
    "        self.order = order\n",
    "        self.q = order+1\n",
    "        self.n_dofs = order+1\n",
    "        \n",
    "        roots = np.linspace(-1, 1, order+1)\n",
    "        basis_polys = {}\n",
    "        bp = []\n",
    "        bpd1 = []\n",
    "        flags = np.ones(order+1).astype(np.bool)\n",
    "        for i in range(order+1):\n",
    "            flags[:] = True\n",
    "            flags[i] = False\n",
    "            r = roots[flags]\n",
    "            c = np.prod(roots[i]-r)\n",
    "            p = np.poly1d(r, True)/c\n",
    "            bp.append(p)\n",
    "            bpd1.append(p.deriv())\n",
    "            \n",
    "        basis_polys[0] = bp\n",
    "        basis_polys[1] = bpd1\n",
    "        self.basis_polys = basis_polys\n",
    "        \n",
    "        ids = np.arange(order+1, dtype=np.int)\n",
    "        self.node_dofs = np.array([ids[0],ids[-1]],\n",
    "                                  dtype=np.int)\n",
    "        self.center_dofs = ids[1:-1]\n",
    "        self.n_dofs_per_node = 1\n",
    "        self.n_dofs_per_center = len(self.center_dofs)\n",
    "        self.n_nodes_per_elem = 2\n",
    "        \n",
    "    def eval_ref(self, coeffs, ref, d=0):\n",
    "        \n",
    "        do_ravel = coeffs.ndim==1\n",
    "        if do_ravel:\n",
    "            coeffs = coeffs.reshape((1,-1))\n",
    "        \n",
    "        res = np.zeros((coeffs.shape[0], \n",
    "                        len(ref)))\n",
    "        \n",
    "        polys = self.basis_polys[d]    \n",
    "        for i in range(self.q):\n",
    "            y = polys[i](ref)\n",
    "            res += coeffs[:,i].reshape((-1,1))*y\n",
    "            \n",
    "        if do_ravel: return res.ravel()\n",
    "        return res\n",
    "            "
   ]
  },
  {
   "cell_type": "code",
   "execution_count": null,
   "metadata": {
    "collapsed": false
   },
   "outputs": [],
   "source": [
    "order   = 3\n",
    "L       = 2*np.pi\n",
    "n_elems = 20\n",
    "\n",
    "nodes = np.linspace(0, L, n_elems+1)\n",
    "elem_to_node = np.zeros((n_elems, 2), dtype=np.int)\n",
    "elem_to_node[:,0] = np.arange(n_elems)\n",
    "elem_to_node[:,1] = np.arange(n_elems)+1\n",
    "\n",
    "topo  = IntervalTopo1D()\n",
    "basis = LagrangeBasis1D(order)\n",
    "mesh  = Mesh1D(topo, basis)\n",
    "mesh.build_mesh(nodes, elem_to_node, [0,-1])\n",
    "\n",
    "cub_points, cub_weights = topo.get_quadrature(order+1)"
   ]
  },
  {
   "cell_type": "code",
   "execution_count": null,
   "metadata": {
    "collapsed": false
   },
   "outputs": [],
   "source": [
    "Kloc = np.zeros((basis.n_dofs, basis.n_dofs),\n",
    "                dtype=np.double)\n",
    "cub_vals = basis.eval_ref(np.eye(basis.n_dofs),\n",
    "                          cub_points, d=1)\n",
    "\n",
    "for i in range(basis.n_dofs):\n",
    "    for j in range(basis.n_dofs):\n",
    "        Kloc[i,j] = np.sum(cub_vals[i]*cub_vals[j]*cub_weights)\n",
    "        \n",
    "sparse_guess = 8*n_elems*basis.n_dofs\n",
    "rows = np.zeros(sparse_guess, dtype=np.double)\n",
    "cols = np.zeros(sparse_guess, dtype=np.double)\n",
    "vals = np.zeros(sparse_guess, dtype=np.double)\n",
    "\n",
    "ind = 0\n",
    "for ielem in range(n_elems):\n",
    "    Kelem = Kloc*mesh.jacb_inv_det[ielem]\n",
    "    for i in range(basis.n_dofs):\n",
    "        for j in range(basis.n_dofs):\n",
    "            id1 = mesh.elem_to_dof[ielem, i]\n",
    "            id2 = mesh.elem_to_dof[ielem, j]\n",
    "            if not (id1 in mesh.boundary_dofs) or \\\n",
    "                   (id2 in mesh.boundary_dofs):\n",
    "                rows[ind] = id1\n",
    "                cols[ind] = id2\n",
    "                vals[ind] = Kelem[i,j]\n",
    "                ind += 1\n",
    "\n",
    "for idof in mesh.boundary_dofs:\n",
    "    rows[ind] = idof\n",
    "    cols[ind] = idof\n",
    "    vals[ind] = 1.0\n",
    "    ind += 1\n",
    "\n",
    "K = sps.coo_matrix((vals[:ind],(rows[:ind],cols[:ind]))).tocsr()"
   ]
  },
  {
   "cell_type": "code",
   "execution_count": null,
   "metadata": {
    "collapsed": false
   },
   "outputs": [],
   "source": [
    "def f(x):\n",
    "    return x*x*(x-L)\n",
    "\n",
    "def f2(x):\n",
    "    return 6*x-2*L\n",
    "\n",
    "rhs = np.zeros(mesh.n_dofs, dtype=np.double)\n",
    "phys_quad_points = topo.ref_to_phys(nodes[elem_to_node],\n",
    "                                    cub_points)\n",
    "f2_quad = f2(phys_quad_points)\n",
    "cub_vals = basis.eval_ref(np.eye(basis.n_dofs),\n",
    "                          cub_points, d=0)\n",
    "a = f2_quad.reshape((f2_quad.shape[0],1,-1))*cub_vals\n",
    "a = a.dot(cub_weights)\n",
    "a = a*mesh.jacb_det.reshape((-1,1))\n",
    "\n",
    "for ielem in range(n_elems):\n",
    "    rhs[mesh.elem_to_dof[ielem]] += a[ielem]\n",
    "rhs = -rhs\n",
    "rhs[mesh.boundary_dofs] = 0.0\n",
    "\n",
    "sol = sps.linalg.spsolve(K, rhs)"
   ]
  },
  {
   "cell_type": "code",
   "execution_count": null,
   "metadata": {
    "collapsed": false
   },
   "outputs": [],
   "source": [
    "x_vals = np.linspace(0, L, mesh.n_elems+1)\n",
    "x_vals = (x_vals[:-1]+x_vals[1:])/2.0\n",
    "s = basis.eval_ref(sol[mesh.elem_to_dof], np.array([0.0])).ravel()\n",
    "\n",
    "np.max(np.abs(s-f(x_vals)))"
   ]
  },
  {
   "cell_type": "code",
   "execution_count": null,
   "metadata": {
    "collapsed": false
   },
   "outputs": [],
   "source": [
    "plt.plot(x_vals, s)\n",
    "plt.plot(x_vals, f(x_vals))"
   ]
  },
  {
   "cell_type": "code",
   "execution_count": null,
   "metadata": {
    "collapsed": false
   },
   "outputs": [],
   "source": [
    "plt.spy(K)"
   ]
  },
  {
   "cell_type": "code",
   "execution_count": null,
   "metadata": {
    "collapsed": false
   },
   "outputs": [],
   "source": [
    "basis  = LagrangeBasis1D(order)\n",
    "\n",
    "coeffs = np.eye(order+1)\n",
    "x_vals = np.linspace(-1,1,100)\n",
    "r  = basis.eval_ref(coeffs, x_vals)\n",
    "r1 = basis.eval_ref(coeffs, x_vals, d=1)\n",
    "\n",
    "for v in r:\n",
    "    plt.plot(x_vals, v)\n",
    "ylims = plt.ylim()\n",
    "for v in np.linspace(-1,1,len(r)):\n",
    "    plt.vlines(v, *ylims, linestyle='--', color='b')"
   ]
  },
  {
   "cell_type": "code",
   "execution_count": null,
   "metadata": {
    "collapsed": false
   },
   "outputs": [],
   "source": [
    "for v in r1:\n",
    "    plt.plot(x_vals, v)\n",
    "ylims = plt.ylim()\n",
    "for v in np.linspace(-1,1,len(r1)):\n",
    "    plt.vlines(v, *ylims, linestyle='--', color='b')"
   ]
  },
  {
   "cell_type": "code",
   "execution_count": null,
   "metadata": {
    "collapsed": true
   },
   "outputs": [],
   "source": []
  }
 ],
 "metadata": {
  "kernelspec": {
   "display_name": "Python 2",
   "language": "python",
   "name": "python2"
  },
  "language_info": {
   "codemirror_mode": {
    "name": "ipython",
    "version": 2
   },
   "file_extension": ".py",
   "mimetype": "text/x-python",
   "name": "python",
   "nbconvert_exporter": "python",
   "pygments_lexer": "ipython2",
   "version": "2.7.6"
  }
 },
 "nbformat": 4,
 "nbformat_minor": 0
}
