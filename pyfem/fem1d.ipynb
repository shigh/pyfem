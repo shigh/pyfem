{
 "cells": [
  {
   "cell_type": "code",
   "execution_count": null,
   "metadata": {
    "collapsed": true
   },
   "outputs": [],
   "source": [
    "%matplotlib inline\n",
    "%load_ext autoreload\n",
    "%autoreload 2"
   ]
  },
  {
   "cell_type": "code",
   "execution_count": null,
   "metadata": {
    "collapsed": false
   },
   "outputs": [],
   "source": [
    "import numpy as np\n",
    "import matplotlib.pyplot as plt\n",
    "import scipy.sparse as sps\n",
    "import scipy.sparse.linalg"
   ]
  },
  {
   "cell_type": "code",
   "execution_count": null,
   "metadata": {
    "collapsed": true
   },
   "outputs": [],
   "source": [
    "from topo import IntervalTopo1D\n",
    "from basis import LagrangeBasis1D\n",
    "from mesh import Mesh1D\n",
    "from assemble import simple_assembly, simple_build_rhs"
   ]
  },
  {
   "cell_type": "code",
   "execution_count": null,
   "metadata": {
    "collapsed": false
   },
   "outputs": [],
   "source": [
    "order   = 3\n",
    "L       = 2*np.pi\n",
    "n_elems = 20\n",
    "\n",
    "vertices = np.linspace(0, L, n_elems+1)\n",
    "elem_to_vertex = np.zeros((n_elems, 2), dtype=np.int)\n",
    "elem_to_vertex[:,0] = np.arange(n_elems)\n",
    "elem_to_vertex[:,1] = np.arange(n_elems)+1\n",
    "\n",
    "topo  = IntervalTopo1D()\n",
    "basis = LagrangeBasis1D(order)\n",
    "mesh  = Mesh1D(topo, basis)\n",
    "mesh.build_mesh(vertices, elem_to_vertex, [0,-1])\n",
    "\n",
    "cub_points, cub_weights = topo.get_quadrature(order+1)"
   ]
  },
  {
   "cell_type": "code",
   "execution_count": null,
   "metadata": {
    "collapsed": false
   },
   "outputs": [],
   "source": [
    "Kloc = np.zeros((basis.n_dofs, basis.n_dofs),\n",
    "                dtype=np.double)\n",
    "cub_vals = basis.eval_ref(np.eye(basis.n_dofs),\n",
    "                          cub_points, d=1)\n",
    "\n",
    "for i in range(basis.n_dofs):\n",
    "    for j in range(basis.n_dofs):\n",
    "        Kloc[i,j] = np.sum(cub_vals[i]*cub_vals[j]*cub_weights)\n",
    "        \n",
    "K = simple_assembly(mesh, Kloc)\n",
    "\n",
    "def f(x):\n",
    "    return x*x*(x-L)\n",
    "\n",
    "def f2(x):\n",
    "    return 6*x-2*L\n",
    "\n",
    "rhs = simple_build_rhs(topo, basis, mesh, f2)"
   ]
  },
  {
   "cell_type": "code",
   "execution_count": null,
   "metadata": {
    "collapsed": false
   },
   "outputs": [],
   "source": [
    "sol = sps.linalg.spsolve(K, rhs)"
   ]
  },
  {
   "cell_type": "code",
   "execution_count": null,
   "metadata": {
    "collapsed": false
   },
   "outputs": [],
   "source": [
    "x_vals = np.linspace(0, L, mesh.n_elems+1)\n",
    "x_vals = (x_vals[:-1]+x_vals[1:])/2.0\n",
    "s = basis.eval_ref(sol[mesh.elem_to_dof], np.array([0.0])).ravel()\n",
    "\n",
    "np.max(np.abs(s-f(x_vals)))"
   ]
  },
  {
   "cell_type": "code",
   "execution_count": null,
   "metadata": {
    "collapsed": false
   },
   "outputs": [],
   "source": [
    "plt.plot(x_vals, s)\n",
    "plt.plot(x_vals, f(x_vals))"
   ]
  },
  {
   "cell_type": "code",
   "execution_count": null,
   "metadata": {
    "collapsed": false
   },
   "outputs": [],
   "source": [
    "plt.spy(K)"
   ]
  },
  {
   "cell_type": "code",
   "execution_count": null,
   "metadata": {
    "collapsed": true
   },
   "outputs": [],
   "source": []
  },
  {
   "cell_type": "code",
   "execution_count": null,
   "metadata": {
    "collapsed": true
   },
   "outputs": [],
   "source": []
  }
 ],
 "metadata": {
  "kernelspec": {
   "display_name": "Python 2",
   "language": "python",
   "name": "python2"
  },
  "language_info": {
   "codemirror_mode": {
    "name": "ipython",
    "version": 2
   },
   "file_extension": ".py",
   "mimetype": "text/x-python",
   "name": "python",
   "nbconvert_exporter": "python",
   "pygments_lexer": "ipython2",
   "version": "2.7.3"
  }
 },
 "nbformat": 4,
 "nbformat_minor": 0
}
