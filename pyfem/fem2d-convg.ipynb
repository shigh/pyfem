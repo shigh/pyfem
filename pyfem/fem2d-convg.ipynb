{
 "cells": [
  {
   "cell_type": "code",
   "execution_count": null,
   "metadata": {
    "collapsed": false
   },
   "outputs": [],
   "source": [
    "%matplotlib inline\n",
    "%load_ext autoreload\n",
    "%autoreload 2"
   ]
  },
  {
   "cell_type": "code",
   "execution_count": null,
   "metadata": {
    "collapsed": false
   },
   "outputs": [],
   "source": [
    "import numpy as np\n",
    "import matplotlib.pyplot as plt\n",
    "from mpl_toolkits.mplot3d import Axes3D\n",
    "import scipy.sparse as sps\n",
    "import scipy.sparse.linalg\n",
    "from scipy.special.orthogonal import p_roots\n",
    "from pyamg.classical import ruge_stuben_solver"
   ]
  },
  {
   "cell_type": "code",
   "execution_count": null,
   "metadata": {
    "collapsed": true
   },
   "outputs": [],
   "source": [
    "from topo import SQuad\n",
    "from poly import lagrange_list\n",
    "from basis import LagrangeBasisQuad\n",
    "from mesh import Mesh2D, uniform_nodes_2d\n",
    "from assemble import simple_assembly, simple_build_rhs\n",
    "from poisson import poisson_2d_Kloc"
   ]
  },
  {
   "cell_type": "code",
   "execution_count": null,
   "metadata": {
    "collapsed": false
   },
   "outputs": [],
   "source": [
    "L = 2*np.pi\n",
    "x_max = L\n",
    "y_max = L\n",
    "\n",
    "k1 = 2.0\n",
    "k2 = 2.0"
   ]
  },
  {
   "cell_type": "code",
   "execution_count": null,
   "metadata": {
    "collapsed": false
   },
   "outputs": [],
   "source": [
    "def f(X):\n",
    "    shape = X.shape[:-1]\n",
    "    X = X.reshape((-1,2))\n",
    "    x = X[:,0]\n",
    "    y = X[:,1]\n",
    "    sol  = np.sin(k1*2*np.pi*x/x_max)\n",
    "    sol *= np.sin(k2*2*np.pi*y/y_max)\n",
    "    return sol.reshape(shape)\n",
    "\n",
    "def f2(X):\n",
    "    sol  = -f(X)\n",
    "    sol *=  (k1*2*np.pi/x_max)**2\\\n",
    "           +(k2*2*np.pi/y_max)**2\n",
    "    return sol"
   ]
  },
  {
   "cell_type": "code",
   "execution_count": null,
   "metadata": {
    "collapsed": false
   },
   "outputs": [],
   "source": [
    "topo = SQuad()\n",
    "errs = {}\n",
    "order_vals = [1,2,3]\n",
    "for order in order_vals:\n",
    "    basis = LagrangeBasisQuad(topo, order)\n",
    "    errs[order] = []\n",
    "    for n_elems in [16, 32]:\n",
    "        \n",
    "        vertices, elem_to_vertex, boundary_vertices = \\\n",
    "                 uniform_nodes_2d(n_elems, x_max, y_max)\n",
    "        mesh = Mesh2D(topo, basis)\n",
    "        mesh.build_mesh(vertices, elem_to_vertex, boundary_vertices)\n",
    "\n",
    "        nodes = vertices[elem_to_vertex]\n",
    "        jacb  = topo.calc_jacb(nodes)\n",
    "        jacb_det = topo.calc_jacb_det(jacb)\n",
    "        jacb_inv = topo.calc_jacb_inv(jacb)\n",
    "        jacb = jacb[0]\n",
    "        jacb_det = jacb_det[0]\n",
    "        jacb_inv = jacb_inv[0]\n",
    " \n",
    "        Kloc = poisson_2d_Kloc(basis, jacb_det, jacb_inv)\n",
    "        K = simple_assembly(mesh, Kloc)\n",
    "        \n",
    "        rhs = simple_build_rhs(topo, basis, mesh, f2)\n",
    "\n",
    "        ml = ruge_stuben_solver(K)\n",
    "        residuals = []\n",
    "        sol = ml.solve(rhs, tol=1e-12, \n",
    "                       residuals=residuals, maxiter=5000)\n",
    "        \n",
    "        X = vertices[:,0].reshape((n_elems+1, n_elems+1))\n",
    "        Y = vertices[:,1].reshape((n_elems+1, n_elems+1))\n",
    "        Z1 = sol[mesh.vertex_to_dof].ravel()\n",
    "        Z2 = f(mesh.vertices).ravel()\n",
    "        err = np.max(np.abs(Z1-Z2))\n",
    "        \n",
    "        errs[order].append(err)"
   ]
  },
  {
   "cell_type": "code",
   "execution_count": null,
   "metadata": {
    "collapsed": false
   },
   "outputs": [],
   "source": [
    "for order in order_vals:\n",
    "    print order, -np.log2(errs[order][1]/errs[order][0])"
   ]
  },
  {
   "cell_type": "code",
   "execution_count": null,
   "metadata": {
    "collapsed": true
   },
   "outputs": [],
   "source": []
  }
 ],
 "metadata": {
  "kernelspec": {
   "display_name": "Python 2",
   "language": "python",
   "name": "python2"
  },
  "language_info": {
   "codemirror_mode": {
    "name": "ipython",
    "version": 2
   },
   "file_extension": ".py",
   "mimetype": "text/x-python",
   "name": "python",
   "nbconvert_exporter": "python",
   "pygments_lexer": "ipython2",
   "version": "2.7.6"
  }
 },
 "nbformat": 4,
 "nbformat_minor": 0
}
