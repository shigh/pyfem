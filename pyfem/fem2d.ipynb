{
 "cells": [
  {
   "cell_type": "code",
   "execution_count": null,
   "metadata": {
    "collapsed": false
   },
   "outputs": [],
   "source": [
    "%matplotlib inline\n",
    "%load_ext autoreload\n",
    "%autoreload 2"
   ]
  },
  {
   "cell_type": "code",
   "execution_count": null,
   "metadata": {
    "collapsed": false
   },
   "outputs": [],
   "source": [
    "import numpy as np\n",
    "import matplotlib.pyplot as plt\n",
    "from mpl_toolkits.mplot3d import Axes3D\n",
    "import scipy.sparse as sps\n",
    "import scipy.sparse.linalg\n",
    "from scipy.special.orthogonal import p_roots\n",
    "from pyamg.classical import ruge_stuben_solver"
   ]
  },
  {
   "cell_type": "code",
   "execution_count": null,
   "metadata": {
    "collapsed": true
   },
   "outputs": [],
   "source": [
    "from topo import SQuad\n",
    "from poly import lagrange_list\n",
    "from basis import LagrangeBasisQuad\n",
    "from mesh import Mesh2D, uniform_nodes_2d\n",
    "from assemble import simple_assembly, simple_build_rhs\n",
    "from poisson import poisson_2d_Kloc"
   ]
  },
  {
   "cell_type": "markdown",
   "metadata": {},
   "source": [
    "## Mesh nodes"
   ]
  },
  {
   "cell_type": "code",
   "execution_count": null,
   "metadata": {
    "collapsed": false
   },
   "outputs": [],
   "source": [
    "order   = 2\n",
    "L       = 1.0\n",
    "n_elems = 16\n",
    "\n",
    "x_max = L\n",
    "y_max = L\n",
    "\n",
    "vertices, elem_to_vertex, boundary_vertices = \\\n",
    "         uniform_nodes_2d(n_elems, x_max, y_max)"
   ]
  },
  {
   "cell_type": "markdown",
   "metadata": {},
   "source": [
    "## Assembly"
   ]
  },
  {
   "cell_type": "code",
   "execution_count": null,
   "metadata": {
    "collapsed": false
   },
   "outputs": [],
   "source": [
    "topo  = SQuad()\n",
    "basis = LagrangeBasisQuad(topo, order)\n",
    "mesh  = Mesh2D(topo, basis)\n",
    "mesh.build_mesh(vertices, elem_to_vertex, boundary_vertices)\n",
    "\n",
    "nodes = vertices[elem_to_vertex]\n",
    "jacb  = topo.calc_jacb(nodes)\n",
    "jacb_det = topo.calc_jacb_det(jacb)\n",
    "jacb_inv = topo.calc_jacb_inv(jacb)\n",
    "jacb = jacb[0]\n",
    "jacb_det = jacb_det[0]\n",
    "jacb_inv = jacb_inv[0]"
   ]
  },
  {
   "cell_type": "code",
   "execution_count": null,
   "metadata": {
    "collapsed": false
   },
   "outputs": [],
   "source": [
    "Kloc = poisson_2d_Kloc(basis, jacb_det, jacb_inv)\n",
    "K = simple_assembly(mesh, Kloc)\n",
    "\n",
    "def f(X):\n",
    "    shape = X.shape[:-1]\n",
    "    X = X.reshape((-1,2))\n",
    "    x = X[:,0]\n",
    "    y = X[:,1]\n",
    "    return (x*(x-x_max)*y*(y-y_max)).reshape(shape)\n",
    "\n",
    "def f2(X):\n",
    "    shape = X.shape[:-1]\n",
    "    X = X.reshape((-1,2))\n",
    "    x = X[:,0]\n",
    "    y = X[:,1]\n",
    "    return (2*y*(y-y_max)+x*(x-x_max)*2).reshape(shape)\n",
    "\n",
    "rhs = simple_build_rhs(topo, basis, mesh, f2)"
   ]
  },
  {
   "cell_type": "code",
   "execution_count": null,
   "metadata": {
    "collapsed": false
   },
   "outputs": [],
   "source": [
    "plt.spy(K)\n",
    "(K-K.T).nnz"
   ]
  },
  {
   "cell_type": "code",
   "execution_count": null,
   "metadata": {
    "collapsed": false
   },
   "outputs": [],
   "source": [
    "ml = ruge_stuben_solver(K)\n",
    "residuals = []\n",
    "sol = ml.solve(rhs, tol=1e-12, residuals=residuals, maxiter=5000)\n",
    "len(residuals), residuals[-1]"
   ]
  },
  {
   "cell_type": "code",
   "execution_count": null,
   "metadata": {
    "collapsed": false
   },
   "outputs": [],
   "source": [
    "fig = plt.figure()\n",
    "ax = fig.add_subplot(111, projection='3d')\n",
    "\n",
    "X = vertices[:,0].reshape((n_elems+1, n_elems+1))\n",
    "Y = vertices[:,1].reshape((n_elems+1, n_elems+1))\n",
    "Z1 = sol[mesh.vertex_to_dof].ravel()\n",
    "Z2 = f(mesh.vertices).ravel()\n",
    "ax.plot_wireframe(X, Y, Z1.reshape((n_elems+1, n_elems+1)))\n",
    "ax.plot_wireframe(X, Y, Z2.reshape((n_elems+1, n_elems+1)), \n",
    "                  color='g')\n",
    "np.max(np.abs(Z1-Z2))"
   ]
  },
  {
   "cell_type": "code",
   "execution_count": null,
   "metadata": {
    "collapsed": true
   },
   "outputs": [],
   "source": []
  }
 ],
 "metadata": {
  "kernelspec": {
   "display_name": "Python 2",
   "language": "python",
   "name": "python2"
  },
  "language_info": {
   "codemirror_mode": {
    "name": "ipython",
    "version": 2
   },
   "file_extension": ".py",
   "mimetype": "text/x-python",
   "name": "python",
   "nbconvert_exporter": "python",
   "pygments_lexer": "ipython2",
   "version": "2.7.6"
  }
 },
 "nbformat": 4,
 "nbformat_minor": 0
}
