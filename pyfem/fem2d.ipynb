{
 "cells": [
  {
   "cell_type": "code",
   "execution_count": null,
   "metadata": {
    "collapsed": false
   },
   "outputs": [],
   "source": [
    "%matplotlib inline\n",
    "%load_ext autoreload\n",
    "%autoreload 2"
   ]
  },
  {
   "cell_type": "code",
   "execution_count": null,
   "metadata": {
    "collapsed": false
   },
   "outputs": [],
   "source": [
    "import numpy as np\n",
    "import matplotlib.pyplot as plt\n",
    "import scipy.sparse as sps\n",
    "import scipy.sparse.linalg\n",
    "from scipy.special.orthogonal import p_roots"
   ]
  },
  {
   "cell_type": "code",
   "execution_count": null,
   "metadata": {
    "collapsed": false
   },
   "outputs": [],
   "source": [
    "order   = 2\n",
    "L       = 2*np.pi\n",
    "n_elems = 2\n",
    "\n",
    "x_vals = np.linspace(0, L, n_elems+1)\n",
    "y_vals = np.linspace(0, L/2.0, n_elems+1)\n",
    "\n",
    "vertices = np.zeros(((n_elems+1)**2, 2), dtype=np.double)\n",
    "elem_to_vertex = np.zeros((n_elems**2, 4), dtype=np.int)\n",
    "\n",
    "for i in range(n_elems):\n",
    "    for j in range(n_elems):\n",
    "        elem = i*n_elems+j\n",
    "        elem_to_vertex[elem,0] = i*(n_elems+1)+j\n",
    "        elem_to_vertex[elem,1] = i*(n_elems+1)+j+1\n",
    "        elem_to_vertex[elem,2] = (i+1)*(n_elems+1)+j+1\n",
    "        elem_to_vertex[elem,3] = (i+1)*(n_elems+1)+j\n",
    "\n",
    "for i in range(n_elems+1):\n",
    "    for j in range(n_elems+1):\n",
    "        v = i*(n_elems+1)+j\n",
    "        vertices[v,0] = x_vals[j]\n",
    "        vertices[v,1] = y_vals[i]\n"
   ]
  },
  {
   "cell_type": "code",
   "execution_count": null,
   "metadata": {
    "collapsed": true
   },
   "outputs": [],
   "source": [
    "class SQuad(object):\n",
    "    \n",
    "    interval = (-1.0, 1.0)\n",
    "    h        = 2.0\n",
    "    \n",
    "    vertices = np.array([[-1,-1],\n",
    "                         [1,-1],\n",
    "                         [1,1],\n",
    "                         [-1,1]], dtype=np.int)\n",
    "    edge_to_vertex = np.array([[0,1],\n",
    "                               [1,2],\n",
    "                               [3,2],\n",
    "                               [0,3]], dtype=np.int)\n",
    "    n_vertices = 4\n",
    "    n_edges    = 4\n",
    "    n_vertex_per_edge = 2\n",
    "    \n",
    "    def calc_jacb(self, nodes):\n",
    "        assert nodes.ndim==3\n",
    "        \n",
    "        dx = nodes[:,1,0]-nodes[:,0,0]\n",
    "        dy = nodes[:,3,1]-nodes[:,0,1]\n",
    "        \n",
    "        jacb = np.zeros((nodes.shape[0], 2, 2))\n",
    "        jacb[:,0,0] = dx/self.h\n",
    "        jacb[:,1,1] = dy/self.h\n",
    "        \n",
    "        return jacb\n",
    "        \n",
    "    def calc_jacb_det(self, jacb):\n",
    "        return np.linalg.det(jacb)\n",
    "    \n",
    "    def calc_jacb_inv(self, jacb):\n",
    "        det = np.linalg.det(jacb)\n",
    "        det = det.reshape((jacb.shape[0],1,1))\n",
    "        inv = np.zeros_like(jacb)\n",
    "        inv[:,0,0] =  jacb[:,1,1]\n",
    "        inv[:,1,1] =  jacb[:,0,0]\n",
    "        inv[:,0,1] = -jacb[:,0,1]\n",
    "        inv[:,1,0] = -jacb[:,1,0]\n",
    "        return inv/det\n",
    "    \n",
    "    def calc_jacb_inv_det(self, jacb_inv):\n",
    "        return np.linalg.det(jacb_inv)\n",
    "    \n",
    "    def get_quadrature(self, n):\n",
    "        xg, wg = p_roots(n)\n",
    "        x = np.zeros((n**2, 2),\n",
    "                     dtype=np.double)\n",
    "        w = np.zeros(n**2,\n",
    "                     dtype=np.double)\n",
    "        \n",
    "        for i in range(n):\n",
    "            for j in range(n):\n",
    "                p = i*n+j\n",
    "                x[p, 0] = xg[j]\n",
    "                x[p, 1] = xg[i]\n",
    "                w[p]    = wg[i]*wg[j]\n",
    "                \n",
    "        return x, w\n",
    "    \n",
    "    def ref_to_phys(self, nodes, ref):\n",
    "        pass\n",
    "    \n",
    "    def phys_to_ref(self, nodes, phys):\n",
    "        pass\n",
    "        \n"
   ]
  },
  {
   "cell_type": "code",
   "execution_count": null,
   "metadata": {
    "collapsed": false
   },
   "outputs": [],
   "source": [
    "topo  = SQuad()\n",
    "nodes = vertices[elem_to_vertex]\n",
    "jacb  = topo.calc_jacb(nodes)\n",
    "jacb_inv = topo.calc_jacb_inv(jacb)"
   ]
  },
  {
   "cell_type": "code",
   "execution_count": null,
   "metadata": {
    "collapsed": true
   },
   "outputs": [],
   "source": []
  }
 ],
 "metadata": {
  "kernelspec": {
   "display_name": "Python 2",
   "language": "python",
   "name": "python2"
  },
  "language_info": {
   "codemirror_mode": {
    "name": "ipython",
    "version": 2
   },
   "file_extension": ".py",
   "mimetype": "text/x-python",
   "name": "python",
   "nbconvert_exporter": "python",
   "pygments_lexer": "ipython2",
   "version": "2.7.6"
  }
 },
 "nbformat": 4,
 "nbformat_minor": 0
}
