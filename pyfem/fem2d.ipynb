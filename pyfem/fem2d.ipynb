{
 "cells": [
  {
   "cell_type": "code",
   "execution_count": null,
   "metadata": {
    "collapsed": false
   },
   "outputs": [],
   "source": [
    "%matplotlib inline\n",
    "%load_ext autoreload\n",
    "%autoreload 2"
   ]
  },
  {
   "cell_type": "code",
   "execution_count": null,
   "metadata": {
    "collapsed": false
   },
   "outputs": [],
   "source": [
    "import numpy as np\n",
    "import matplotlib.pyplot as plt\n",
    "from mpl_toolkits.mplot3d import Axes3D\n",
    "import scipy.sparse as sps\n",
    "import scipy.sparse.linalg\n",
    "from scipy.special.orthogonal import p_roots\n",
    "from pyamg.classical import ruge_stuben_solver"
   ]
  },
  {
   "cell_type": "code",
   "execution_count": null,
   "metadata": {
    "collapsed": true
   },
   "outputs": [],
   "source": [
    "from topo import SQuad\n",
    "from poly import lagrange_list, lobatto_list\n",
    "from basis import LagrangeBasisQuad\n",
    "from basis import LobattoBasisQuad\n",
    "from mesh import Mesh, uniform_nodes_2d\n",
    "from assemble import simple_assembly, simple_build_rhs\n",
    "from poisson import poisson_Kloc"
   ]
  },
  {
   "cell_type": "markdown",
   "metadata": {},
   "source": [
    "## Mesh nodes"
   ]
  },
  {
   "cell_type": "code",
   "execution_count": null,
   "metadata": {
    "collapsed": false
   },
   "outputs": [],
   "source": [
    "order   = 4\n",
    "L       = 1.0\n",
    "n_elems = 8\n",
    "\n",
    "x_max = L\n",
    "y_max = L\n",
    "\n",
    "periodic = True\n",
    "\n",
    "vertices, elem_to_vertex, boundary_vertices,\\\n",
    "         get_elem_ref, maps = \\\n",
    "         uniform_nodes_2d(n_elems, x_max, y_max, True, True)\n",
    "        \n",
    "vertex_map = maps[0]\n",
    "edge_map   = maps[1]"
   ]
  },
  {
   "cell_type": "markdown",
   "metadata": {},
   "source": [
    "## Assembly"
   ]
  },
  {
   "cell_type": "code",
   "execution_count": null,
   "metadata": {
    "collapsed": false
   },
   "outputs": [],
   "source": [
    "topo  = SQuad()\n",
    "basis = LagrangeBasisQuad(topo, order)\n",
    "#basis = LobattoBasisQuad(topo, order)\n",
    "mesh  = Mesh(topo, basis)\n",
    "mesh.build_mesh(vertices, elem_to_vertex, boundary_vertices)\n",
    "\n",
    "nodes = vertices[elem_to_vertex]\n",
    "jacb  = topo.calc_jacb(nodes)\n",
    "jacb_det = topo.calc_jacb_det(jacb)\n",
    "jacb_inv = topo.calc_jacb_inv(jacb)\n",
    "jacb     = jacb[0]\n",
    "jacb_det = jacb_det[0]\n",
    "jacb_inv = jacb_inv[0]"
   ]
  },
  {
   "cell_type": "code",
   "execution_count": null,
   "metadata": {
    "collapsed": false
   },
   "outputs": [],
   "source": [
    "# ref = np.array([[0,0],[.5,.5]])\n",
    "# basis.eval_ref(ref, d=1)"
   ]
  },
  {
   "cell_type": "code",
   "execution_count": null,
   "metadata": {
    "collapsed": false
   },
   "outputs": [],
   "source": [
    "if periodic:\n",
    "    mesh.apply_dof_maps(vertex_map, edge_map)\n",
    "    mesh.reorder_dofs()\n",
    "    mesh.boundary_dofs = [0]\n",
    "else:\n",
    "    mesh.reorder_dofs()"
   ]
  },
  {
   "cell_type": "code",
   "execution_count": null,
   "metadata": {
    "collapsed": false
   },
   "outputs": [],
   "source": [
    "Kloc = poisson_Kloc(basis, jacb_det, jacb_inv)\n",
    "K = simple_assembly(mesh, Kloc)\n",
    "\n",
    "def f(X):\n",
    "    shape = X.shape[:-1]\n",
    "    X = X.reshape((-1,2))\n",
    "    x = X[:,0]\n",
    "    y = X[:,1]\n",
    "    return (x*(x-x_max)*y*(y-y_max)).reshape(shape)\n",
    "\n",
    "def f2(X):\n",
    "    shape = X.shape[:-1]\n",
    "    X = X.reshape((-1,2))\n",
    "    x = X[:,0]\n",
    "    y = X[:,1]\n",
    "    return -(2*y*(y-y_max)+x*(x-x_max)*2).reshape(shape)\n",
    "\n",
    "k1 = 1.0\n",
    "k2 = 1.0\n",
    "def f(X):\n",
    "    shape = X.shape[:-1]\n",
    "    X = X.reshape((-1,2))\n",
    "    x = X[:,0]\n",
    "    y = X[:,1]\n",
    "    sol  = np.sin(k1*2*np.pi*x/x_max)\n",
    "    sol *= np.sin(k2*2*np.pi*y/y_max)\n",
    "    return sol.reshape(shape)\n",
    "\n",
    "def f2(X):\n",
    "    sol  = -f(X)\n",
    "    sol *=  (k1*2*np.pi/x_max)**2\\\n",
    "           +(k2*2*np.pi/y_max)**2\n",
    "    return -sol\n",
    "\n",
    "rhs = simple_build_rhs(topo, basis, mesh, f2)"
   ]
  },
  {
   "cell_type": "code",
   "execution_count": null,
   "metadata": {
    "collapsed": false
   },
   "outputs": [],
   "source": [
    "plt.spy(K)\n",
    "(K-K.T).nnz"
   ]
  },
  {
   "cell_type": "code",
   "execution_count": null,
   "metadata": {
    "collapsed": false
   },
   "outputs": [],
   "source": [
    "ml = ruge_stuben_solver(K)\n",
    "residuals = []\n",
    "sol = ml.solve(rhs, tol=1e-12, residuals=residuals, maxiter=5000,\n",
    "               accel='cg')\n",
    "sol[mesh.boundary_dofs] = 0.0\n",
    "len(residuals), residuals[-1]"
   ]
  },
  {
   "cell_type": "code",
   "execution_count": null,
   "metadata": {
    "collapsed": false
   },
   "outputs": [],
   "source": [
    "f(mesh.get_dof_phys())-sol"
   ]
  },
  {
   "cell_type": "code",
   "execution_count": null,
   "metadata": {
    "collapsed": false
   },
   "outputs": [],
   "source": [
    "n = 100\n",
    "x_vals = np.linspace(0,x_max,n)\n",
    "y_vals = np.linspace(0,y_max,n)\n",
    "X, Y = np.meshgrid(x_vals, y_vals)\n",
    "X = X.ravel()\n",
    "Y = Y.ravel()\n",
    "phys = np.zeros((len(X),2), dtype=np.double)\n",
    "phys[:,0] = X\n",
    "phys[:,1] = Y\n",
    "\n",
    "elem, ref = get_elem_ref(phys)\n",
    "Z1 = mesh.eval_elem_ref(sol, elem, ref)\n",
    "Z2 = f(phys)\n",
    "\n",
    "X = X.reshape((n,n))\n",
    "Y = Y.reshape((n,n))\n",
    "fig = plt.figure()\n",
    "ax = fig.add_subplot(111, projection='3d')\n",
    "ax.plot_wireframe(X, Y, Z1.reshape((n,n)))\n",
    "ax.plot_wireframe(X, Y, Z2.reshape((n,n)), \n",
    "                  color='g')\n",
    "plt.show()\n",
    "np.max(np.abs(Z1-Z2))"
   ]
  },
  {
   "cell_type": "code",
   "execution_count": null,
   "metadata": {
    "collapsed": false
   },
   "outputs": [],
   "source": [
    "k = 20\n",
    "plt.plot(X[k,:], Z1.reshape((n,n))[k,:])\n",
    "plt.plot(X[k,:], Z2.reshape((n,n))[k,:])"
   ]
  },
  {
   "cell_type": "code",
   "execution_count": null,
   "metadata": {
    "collapsed": false
   },
   "outputs": [],
   "source": [
    "if basis.is_nodal and False:\n",
    "    fig = plt.figure()\n",
    "    ax = fig.add_subplot(111, projection='3d')\n",
    "\n",
    "    dof_phys = mesh.get_dof_phys()\n",
    "    X = dof_phys[:,0]\n",
    "    Y = dof_phys[:,1]\n",
    "    Z1 = sol\n",
    "    Z2 = f(dof_phys)\n",
    "    ax.plot_wireframe(X, Y, Z1)\n",
    "    ax.plot_wireframe(X, Y, Z2, \n",
    "                      color='g')\n",
    "    print np.max(np.abs(Z1-Z2))"
   ]
  },
  {
   "cell_type": "code",
   "execution_count": null,
   "metadata": {
    "collapsed": true
   },
   "outputs": [],
   "source": []
  }
 ],
 "metadata": {
  "kernelspec": {
   "display_name": "Python 2",
   "language": "python",
   "name": "python2"
  },
  "language_info": {
   "codemirror_mode": {
    "name": "ipython",
    "version": 2
   },
   "file_extension": ".py",
   "mimetype": "text/x-python",
   "name": "python",
   "nbconvert_exporter": "python",
   "pygments_lexer": "ipython2",
   "version": "2.7.6"
  }
 },
 "nbformat": 4,
 "nbformat_minor": 0
}
