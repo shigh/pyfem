{
 "cells": [
  {
   "cell_type": "code",
   "execution_count": null,
   "metadata": {
    "collapsed": false
   },
   "outputs": [],
   "source": [
    "%matplotlib inline\n",
    "%load_ext autoreload\n",
    "%autoreload 2"
   ]
  },
  {
   "cell_type": "code",
   "execution_count": null,
   "metadata": {
    "collapsed": false
   },
   "outputs": [],
   "source": [
    "import numpy as np\n",
    "import matplotlib.pyplot as plt\n",
    "import scipy.sparse as sps\n",
    "import scipy.sparse.linalg\n",
    "from scipy.special.orthogonal import p_roots"
   ]
  },
  {
   "cell_type": "code",
   "execution_count": null,
   "metadata": {
    "collapsed": true
   },
   "outputs": [],
   "source": [
    "from topo import SQuad\n",
    "from poly import lagrange_list\n",
    "from basis import LagrangeBasisQuad"
   ]
  },
  {
   "cell_type": "code",
   "execution_count": null,
   "metadata": {
    "collapsed": false
   },
   "outputs": [],
   "source": [
    "order   = 2\n",
    "L       = 2*np.pi\n",
    "n_elems = 2\n",
    "\n",
    "x_max = L\n",
    "y_max = L/2.0\n",
    "x_vals = np.linspace(0, x_max, n_elems+1)\n",
    "y_vals = np.linspace(0, y_max, n_elems+1)\n",
    "\n",
    "vertices = np.zeros(((n_elems+1)**2, 2), dtype=np.double)\n",
    "elem_to_vertex = np.zeros((n_elems**2, 4), dtype=np.int)\n",
    "\n",
    "for i in range(n_elems):\n",
    "    for j in range(n_elems):\n",
    "        elem = i*n_elems+j\n",
    "        elem_to_vertex[elem,0] = i*(n_elems+1)+j\n",
    "        elem_to_vertex[elem,1] = i*(n_elems+1)+j+1\n",
    "        elem_to_vertex[elem,2] = (i+1)*(n_elems+1)+j+1\n",
    "        elem_to_vertex[elem,3] = (i+1)*(n_elems+1)+j\n",
    "\n",
    "for i in range(n_elems+1):\n",
    "    for j in range(n_elems+1):\n",
    "        v = i*(n_elems+1)+j\n",
    "        vertices[v,0] = x_vals[j]\n",
    "        vertices[v,1] = y_vals[i]\n"
   ]
  },
  {
   "cell_type": "code",
   "execution_count": null,
   "metadata": {
    "collapsed": false
   },
   "outputs": [],
   "source": [
    "topo  = SQuad()\n",
    "nodes = vertices[elem_to_vertex]\n",
    "jacb  = topo.calc_jacb(nodes)\n",
    "jacb_inv = topo.calc_jacb_inv(jacb)"
   ]
  },
  {
   "cell_type": "markdown",
   "metadata": {},
   "source": [
    "### Basis Test Cases\n",
    "\n",
    "* One at node, zero at all other nodes"
   ]
  },
  {
   "cell_type": "code",
   "execution_count": null,
   "metadata": {
    "collapsed": false
   },
   "outputs": [],
   "source": [
    "order = 3\n",
    "basis = LagrangeBasisQuad(SQuad, order)"
   ]
  },
  {
   "cell_type": "code",
   "execution_count": null,
   "metadata": {
    "collapsed": false
   },
   "outputs": [],
   "source": [
    "basis.vertex_to_dof"
   ]
  },
  {
   "cell_type": "code",
   "execution_count": null,
   "metadata": {
    "collapsed": false
   },
   "outputs": [],
   "source": [
    "basis.edge_to_dof"
   ]
  },
  {
   "cell_type": "code",
   "execution_count": null,
   "metadata": {
    "collapsed": false
   },
   "outputs": [],
   "source": [
    "basis.bubble_to_dof"
   ]
  },
  {
   "cell_type": "code",
   "execution_count": null,
   "metadata": {
    "collapsed": false
   },
   "outputs": [],
   "source": [
    "x_vals = np.linspace(-1,1,order+1)\n",
    "y_vals = x_vals\n",
    "X, Y = np.meshgrid(x_vals, y_vals)\n",
    "bp = basis.basis_polys[0]\n",
    "k = 13\n",
    "p = bp[k]\n",
    "#plt.contour(X, Y, p(X, Y))"
   ]
  },
  {
   "cell_type": "code",
   "execution_count": null,
   "metadata": {
    "collapsed": false
   },
   "outputs": [],
   "source": [
    "p(X, Y).ravel()"
   ]
  },
  {
   "cell_type": "code",
   "execution_count": null,
   "metadata": {
    "collapsed": false
   },
   "outputs": [],
   "source": [
    "ref = np.array([X.ravel(), Y.ravel()]).T\n",
    "\n",
    "coeffs = np.zeros(basis.n_dofs)\n",
    "coeffs[k] = 1.0\n",
    "\n",
    "np.all(np.max(np.abs(basis.eval_ref(coeffs, ref)-p(X,Y).ravel())<1e-12))"
   ]
  },
  {
   "cell_type": "code",
   "execution_count": null,
   "metadata": {
    "collapsed": true
   },
   "outputs": [],
   "source": []
  }
 ],
 "metadata": {
  "kernelspec": {
   "display_name": "Python 2",
   "language": "python",
   "name": "python2"
  },
  "language_info": {
   "codemirror_mode": {
    "name": "ipython",
    "version": 2
   },
   "file_extension": ".py",
   "mimetype": "text/x-python",
   "name": "python",
   "nbconvert_exporter": "python",
   "pygments_lexer": "ipython2",
   "version": "2.7.6"
  }
 },
 "nbformat": 4,
 "nbformat_minor": 0
}
