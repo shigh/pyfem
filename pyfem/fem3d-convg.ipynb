{
 "cells": [
  {
   "cell_type": "code",
   "execution_count": null,
   "metadata": {
    "collapsed": false
   },
   "outputs": [],
   "source": [
    "%matplotlib inline\n",
    "%load_ext autoreload\n",
    "%autoreload 2"
   ]
  },
  {
   "cell_type": "code",
   "execution_count": null,
   "metadata": {
    "collapsed": false
   },
   "outputs": [],
   "source": [
    "import numpy as np\n",
    "import matplotlib.pyplot as plt\n",
    "from mpl_toolkits.mplot3d import Axes3D\n",
    "import scipy.sparse as sps\n",
    "import scipy.sparse.linalg\n",
    "from scipy.special.orthogonal import p_roots\n",
    "from pyamg.classical import ruge_stuben_solver"
   ]
  },
  {
   "cell_type": "code",
   "execution_count": null,
   "metadata": {
    "collapsed": true
   },
   "outputs": [],
   "source": [
    "from topo import SHex\n",
    "from poly import lagrange_list\n",
    "from basis import LagrangeBasisHex\n",
    "from mesh import Mesh, uniform_nodes_3d\n",
    "from assemble import simple_build_rhs\n",
    "from cyassemble import simple_assembly\n",
    "from poisson import poisson_Kloc, poisson_Mloc"
   ]
  },
  {
   "cell_type": "code",
   "execution_count": null,
   "metadata": {
    "collapsed": false
   },
   "outputs": [],
   "source": [
    "L = 2*np.pi\n",
    "x_max = L\n",
    "y_max = L\n",
    "z_max = L\n",
    "\n",
    "k1 = 1.0\n",
    "k2 = 2.0\n",
    "k3 = 3.0"
   ]
  },
  {
   "cell_type": "code",
   "execution_count": null,
   "metadata": {
    "collapsed": false
   },
   "outputs": [],
   "source": [
    "def f(X):\n",
    "    shape = X.shape[:-1]\n",
    "    X = X.reshape((-1,3))\n",
    "    x = X[:,0]\n",
    "    y = X[:,1]\n",
    "    z = X[:,2]\n",
    "    sol  = np.sin(k1*2*np.pi*x/x_max)\n",
    "    sol *= np.sin(k2*2*np.pi*y/y_max)\n",
    "    sol *= np.sin(k3*2*np.pi*z/z_max)\n",
    "    return sol.reshape(shape)\n",
    "\n",
    "def f2(X):\n",
    "    sol  = -f(X)\n",
    "    sol *=  (k1*2*np.pi/x_max)**2\\\n",
    "           +(k2*2*np.pi/y_max)**2\\\n",
    "           +(k3*2*np.pi/z_max)**2\n",
    "    return sol"
   ]
  },
  {
   "cell_type": "code",
   "execution_count": null,
   "metadata": {
    "collapsed": false
   },
   "outputs": [],
   "source": [
    "topo = SHex()\n",
    "errs = {}\n",
    "order_vals = [1,2,3]\n",
    "for order in order_vals:\n",
    "    basis = LagrangeBasisHex(topo, order)\n",
    "    errs[order] = []\n",
    "    for n_elems in [8,16]:\n",
    "        \n",
    "        vertices, elem_to_vertex, boundary_vertices = \\\n",
    "                 uniform_nodes_3d(n_elems, x_max, y_max, z_max)\n",
    "        mesh = Mesh(topo, basis)\n",
    "        mesh.build_mesh(vertices, elem_to_vertex, boundary_vertices)\n",
    "\n",
    "        nodes = vertices[elem_to_vertex]\n",
    "        jacb  = topo.calc_jacb(nodes)\n",
    "        jacb_det = topo.calc_jacb_det(jacb)\n",
    "        jacb_inv = topo.calc_jacb_inv(jacb)\n",
    "        jacb     = jacb[0]\n",
    "        jacb_det = jacb_det[0]\n",
    "        jacb_inv = jacb_inv[0]\n",
    " \n",
    "        Kloc = poisson_Kloc(basis, jacb_det, jacb_inv)\n",
    "        K    = simple_assembly(mesh, Kloc)\n",
    "        \n",
    "        Mloc = poisson_Mloc(basis, jacb_det)\n",
    "        M    = simple_assembly(mesh, Mloc)\n",
    "        \n",
    "        rhs = simple_build_rhs(topo, basis, mesh, f2)\n",
    "\n",
    "        ml = ruge_stuben_solver(K)\n",
    "        residuals = []\n",
    "        sol = ml.solve(rhs, tol=1e-12, \n",
    "                       residuals=residuals, maxiter=5000)\n",
    "        \n",
    "        dof_phys = mesh.get_dof_phys()\n",
    "        u   = sol-f(dof_phys)\n",
    "        err = np.sqrt(u.dot(M.dot(u)))\n",
    "        \n",
    "        errs[order].append(err)"
   ]
  },
  {
   "cell_type": "code",
   "execution_count": null,
   "metadata": {
    "collapsed": false
   },
   "outputs": [],
   "source": [
    "for order in order_vals:\n",
    "    print order, -np.log2(errs[order][1]/errs[order][0])"
   ]
  },
  {
   "cell_type": "code",
   "execution_count": null,
   "metadata": {
    "collapsed": true
   },
   "outputs": [],
   "source": []
  }
 ],
 "metadata": {
  "kernelspec": {
   "display_name": "Python 2",
   "language": "python",
   "name": "python2"
  },
  "language_info": {
   "codemirror_mode": {
    "name": "ipython",
    "version": 2
   },
   "file_extension": ".py",
   "mimetype": "text/x-python",
   "name": "python",
   "nbconvert_exporter": "python",
   "pygments_lexer": "ipython2",
   "version": "2.7.6"
  }
 },
 "nbformat": 4,
 "nbformat_minor": 0
}
