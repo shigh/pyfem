{
 "cells": [
  {
   "cell_type": "code",
   "execution_count": null,
   "metadata": {
    "collapsed": false
   },
   "outputs": [],
   "source": [
    "%matplotlib inline\n",
    "%load_ext autoreload\n",
    "%autoreload 2"
   ]
  },
  {
   "cell_type": "code",
   "execution_count": null,
   "metadata": {
    "collapsed": true
   },
   "outputs": [],
   "source": [
    "import numpy as np\n",
    "import matplotlib.pyplot as plt\n",
    "from pyamg.classical import ruge_stuben_solver"
   ]
  },
  {
   "cell_type": "code",
   "execution_count": null,
   "metadata": {
    "collapsed": false
   },
   "outputs": [],
   "source": [
    "from topo import SHex\n",
    "from mesh import Mesh, uniform_nodes_3d\n",
    "from basis import LagrangeBasisHex, LobattoBasisHex\n",
    "from poisson import poisson_Kloc\n",
    "from assemble import simple_build_rhs\n",
    "from cyassemble import simple_assembly"
   ]
  },
  {
   "cell_type": "code",
   "execution_count": null,
   "metadata": {
    "collapsed": false
   },
   "outputs": [],
   "source": [
    "order = 4\n",
    "L = (1.0,1.0,1.0)\n",
    "x_max = L[0]\n",
    "y_max = L[1]\n",
    "z_max = L[2]\n",
    "periodic = False\n",
    "n_elem = 8\n",
    "\n",
    "vertices, elem_to_vertex, boundary_vertices, \\\n",
    "get_elem_ref, (vertex_map, edge_map, face_map) = \\\n",
    "          uniform_nodes_3d(n_elem,L[0],L[1],L[2],\n",
    "                           get_elem_ref=True,\n",
    "                           periodic=True)"
   ]
  },
  {
   "cell_type": "code",
   "execution_count": null,
   "metadata": {
    "collapsed": false
   },
   "outputs": [],
   "source": [
    "for k,v in face_map.iteritems():\n",
    "    assert k[0]<k[1]\n",
    "    assert k[1]<k[2]\n",
    "    assert k[2]<k[3]\n",
    "    assert v[0]<v[1]\n",
    "    assert v[1]<v[2]\n",
    "    assert v[2]<v[3]\n",
    "    \n",
    "for k,v in edge_map.iteritems():\n",
    "    assert k[0]<k[1]\n",
    "    assert v[0]<v[1]"
   ]
  },
  {
   "cell_type": "code",
   "execution_count": null,
   "metadata": {
    "collapsed": false
   },
   "outputs": [],
   "source": [
    "topo = SHex()\n",
    "basis = LobattoBasisHex(topo, order)\n",
    "#basis = LagrangeBasisHex(topo, order)\n",
    "jacb = topo.calc_jacb(vertices[elem_to_vertex])\n",
    "jacb_det = topo.calc_jacb_det(jacb)\n",
    "jacb_inv = topo.calc_jacb_inv(jacb)\n",
    "mesh = Mesh(topo, basis)\n",
    "mesh.build_mesh(vertices, elem_to_vertex, boundary_vertices)"
   ]
  },
  {
   "cell_type": "code",
   "execution_count": null,
   "metadata": {
    "collapsed": false
   },
   "outputs": [],
   "source": [
    "if periodic:\n",
    "    mesh.apply_dof_maps(vertex_map, edge_map, face_map)\n",
    "    mesh.boundary_dofs = np.array([0], dtype=np.int)\n",
    "mesh.reorder_dofs()"
   ]
  },
  {
   "cell_type": "code",
   "execution_count": null,
   "metadata": {
    "collapsed": false
   },
   "outputs": [],
   "source": [
    "def f(X):\n",
    "    shape = X.shape[:-1]\n",
    "    X = X.reshape((-1,3))\n",
    "    x = X[:,0]\n",
    "    y = X[:,1]\n",
    "    z = X[:,2]\n",
    "    u = x*(x-x_max)*y*(y-y_max)*z*(z-z_max)\n",
    "    #u += x+y+z\n",
    "    #u += 1.0\n",
    "    return u.reshape(shape)\n",
    "\n",
    "def f2(X):\n",
    "    shape = X.shape[:-1]\n",
    "    X = X.reshape((-1,3))\n",
    "    x = X[:,0]\n",
    "    y = X[:,1]\n",
    "    z = X[:,2]\n",
    "    u = 2*y*(y-y_max)*x*(x-x_max)+\\\n",
    "        2*z*(z-z_max)*x*(x-x_max)+\\\n",
    "        2*y*(y-y_max)*z*(z-z_max)\n",
    "    return -u.reshape(shape)\n",
    "\n",
    "k1 = 1.0\n",
    "k2 = 1.0\n",
    "k3 = 1.0\n",
    "def f(X):\n",
    "    shape = X.shape[:-1]\n",
    "    X = X.reshape((-1,3))\n",
    "    x = X[:,0]\n",
    "    y = X[:,1]\n",
    "    z = X[:,2]\n",
    "    sol  = np.sin(k1*2*np.pi*x/x_max)\n",
    "    sol *= np.sin(k2*2*np.pi*y/y_max)\n",
    "    sol *= np.sin(k3*2*np.pi*z/z_max)\n",
    "    return sol.reshape(shape)\n",
    "\n",
    "def f2(X):\n",
    "    sol  = -f(X)\n",
    "    sol *=  (k1*2*np.pi/x_max)**2\\\n",
    "           +(k2*2*np.pi/y_max)**2\\\n",
    "           +(k3*2*np.pi/z_max)**2\n",
    "    return -sol\n",
    "\n",
    "u = np.zeros(mesh.n_dofs)\n",
    "Kloc = poisson_Kloc(basis, jacb_det[0], jacb_inv[0])\n",
    "K, b = simple_assembly(mesh, Kloc, u)\n",
    "b[mesh.boundary_dofs] = 0.0\n",
    "rhs = simple_build_rhs(topo, basis, mesh, f2)\n",
    "rhs += b\n",
    "rhs[mesh.boundary_dofs] = 0.0\n",
    "if periodic:\n",
    "    rhs -= np.mean(rhs)"
   ]
  },
  {
   "cell_type": "code",
   "execution_count": null,
   "metadata": {
    "collapsed": false
   },
   "outputs": [],
   "source": [
    "if False:\n",
    "    plt.spy(K)\n",
    "np.sum(np.abs((K-K.T).data)>1e-15)"
   ]
  },
  {
   "cell_type": "code",
   "execution_count": null,
   "metadata": {
    "collapsed": false
   },
   "outputs": [],
   "source": [
    "ml = ruge_stuben_solver(K)\n",
    "residuals = []\n",
    "sol = ml.solve(rhs, tol=1e-12, residuals=residuals, maxiter=5000,\n",
    "              accel='cg')\n",
    "sol[mesh.boundary_dofs] = u[mesh.boundary_dofs]\n",
    "if periodic:\n",
    "    sol -= np.mean(sol)\n",
    "len(residuals), residuals[-1]"
   ]
  },
  {
   "cell_type": "code",
   "execution_count": null,
   "metadata": {
    "collapsed": false
   },
   "outputs": [],
   "source": [
    "if basis.is_nodal:\n",
    "    dof_phys = mesh.get_dof_phys()\n",
    "    Mloc = poisson_Kloc(basis, jacb_det[0], jacb_inv[0])\n",
    "    M = simple_assembly(mesh, Mloc, has_boundary=False)\n",
    "    err = f(dof_phys)-sol\n",
    "    print np.max(np.abs(err))\n",
    "    print err.dot(M.dot(err))"
   ]
  },
  {
   "cell_type": "code",
   "execution_count": null,
   "metadata": {
    "collapsed": false
   },
   "outputs": [],
   "source": [
    "n = 100\n",
    "x_vals = np.linspace(0,x_max,n)\n",
    "y_vals = np.ones_like(x_vals)*y_max/4\n",
    "z_vals = np.ones_like(x_vals)*z_max/4\n",
    "\n",
    "phys = np.zeros((len(x_vals),3), dtype=np.double)\n",
    "phys[:,0] = x_vals\n",
    "phys[:,1] = y_vals\n",
    "phys[:,2] = z_vals\n",
    "\n",
    "elem, ref = get_elem_ref(phys)\n",
    "Z1 = mesh.eval_elem_ref(sol, elem, ref)\n",
    "Z2 = f(phys)\n",
    "\n",
    "plt.plot(x_vals, Z1)\n",
    "plt.plot(x_vals, Z2)\n",
    "\n",
    "np.max(np.abs(Z1-Z2))"
   ]
  },
  {
   "cell_type": "code",
   "execution_count": null,
   "metadata": {
    "collapsed": true
   },
   "outputs": [],
   "source": []
  }
 ],
 "metadata": {
  "kernelspec": {
   "display_name": "Python 2",
   "language": "python",
   "name": "python2"
  },
  "language_info": {
   "codemirror_mode": {
    "name": "ipython",
    "version": 2
   },
   "file_extension": ".py",
   "mimetype": "text/x-python",
   "name": "python",
   "nbconvert_exporter": "python",
   "pygments_lexer": "ipython2",
   "version": "2.7.6"
  }
 },
 "nbformat": 4,
 "nbformat_minor": 0
}
