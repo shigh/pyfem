{
 "cells": [
  {
   "cell_type": "code",
   "execution_count": null,
   "metadata": {
    "collapsed": true
   },
   "outputs": [],
   "source": [
    "%matplotlib inline"
   ]
  },
  {
   "cell_type": "code",
   "execution_count": null,
   "metadata": {
    "collapsed": true
   },
   "outputs": [],
   "source": [
    "import numpy as np\n",
    "from numpy import newaxis\n",
    "import scipy.sparse as sps\n",
    "from scipy.sparse.linalg import spsolve\n",
    "import matplotlib.pyplot as plt"
   ]
  },
  {
   "cell_type": "code",
   "execution_count": null,
   "metadata": {
    "collapsed": true
   },
   "outputs": [],
   "source": [
    "from pyfem.topo import SQuad\n",
    "from pyfem.basis import LagrangeBasisQuad\n",
    "\n",
    "topo  = SQuad()\n",
    "basis = LagrangeBasisQuad(topo, 1)"
   ]
  },
  {
   "cell_type": "markdown",
   "metadata": {},
   "source": [
    "# 1D elements"
   ]
  },
  {
   "cell_type": "code",
   "execution_count": null,
   "metadata": {
    "collapsed": true
   },
   "outputs": [],
   "source": [
    "def eval_basis(ref):\n",
    "    \n",
    "    r = np.zeros((4, len(ref), 2))\n",
    "    r[0,:,0] = (1-ref[:,1])\n",
    "    r[1,:,1] = (1+ref[:,0])\n",
    "    r[2,:,0] = (1+ref[:,1])\n",
    "    r[3,:,1] = (1-ref[:,0])\n",
    "    \n",
    "    return r/2.0"
   ]
  },
  {
   "cell_type": "code",
   "execution_count": null,
   "metadata": {
    "collapsed": false
   },
   "outputs": [],
   "source": [
    "xv = np.linspace(-1, 1, 10)\n",
    "yv = np.linspace(-1, 1, 10)\n",
    "X, Y = np.meshgrid(xv, yv)\n",
    "X = X.ravel()\n",
    "Y = Y.ravel()\n",
    "ref = np.hstack([X[:,newaxis], Y[:,newaxis]])\n",
    "r = eval_basis(ref)"
   ]
  },
  {
   "cell_type": "code",
   "execution_count": null,
   "metadata": {
    "collapsed": false
   },
   "outputs": [],
   "source": [
    "plt.figure(figsize=(8,8))\n",
    "for i in range(len(r)):\n",
    "    plt.subplot(2, 2, i+1)\n",
    "    plt.quiver(X, Y, r[i,:,0], r[i,:,1], \n",
    "               color='b')\n",
    "    plt.title(str(i))"
   ]
  },
  {
   "cell_type": "code",
   "execution_count": null,
   "metadata": {
    "collapsed": true
   },
   "outputs": [],
   "source": [
    "Kloc = np.array([[1,-1,-1,1],\n",
    "                 [-1,1,1,-1],\n",
    "                 [-1,1,1,-1],\n",
    "                 [1,-1,-1,1]], dtype=np.double)\n",
    "Mloc = np.array([[2,1,0,0],\n",
    "                 [1,2,0,0],\n",
    "                 [0,0,2,1],\n",
    "                 [0,0,1,2]], dtype=np.double)\n",
    "Mloc *= 2.0/3.0"
   ]
  },
  {
   "cell_type": "code",
   "execution_count": null,
   "metadata": {
    "collapsed": false
   },
   "outputs": [],
   "source": [
    "N = 2\n",
    "n_dofs = 2*N*(N+1)\n",
    "\n",
    "etd = np.zeros((N*N, 4), dtype=np.int)\n",
    "ielem = 0\n",
    "for iy in range(N):\n",
    "    for ix in range(N):\n",
    "        etd[ielem,0] = ix+(2*N+1)*iy\n",
    "        etd[ielem,1] = ix+(2*N+1)*iy+N+1\n",
    "        etd[ielem,2] = ix+(2*N+1)*iy+2*N+1\n",
    "        etd[ielem,3] = ix+(2*N+1)*iy+N\n",
    "        ielem += 1"
   ]
  },
  {
   "cell_type": "code",
   "execution_count": null,
   "metadata": {
    "collapsed": false
   },
   "outputs": [],
   "source": [
    "cols = etd.ravel()\n",
    "rows = np.arange(len(cols))\n",
    "vals = np.ones(len(cols))\n",
    "Q = sps.coo_matrix((vals, (rows, cols))).tocsr()"
   ]
  },
  {
   "cell_type": "code",
   "execution_count": null,
   "metadata": {
    "collapsed": true
   },
   "outputs": [],
   "source": [
    "A = sps.kron(np.eye(N*N), Mloc)\n",
    "A = Q.T.dot(A.dot(Q))"
   ]
  },
  {
   "cell_type": "code",
   "execution_count": null,
   "metadata": {
    "collapsed": false
   },
   "outputs": [],
   "source": [
    "plt.spy(A)"
   ]
  },
  {
   "cell_type": "code",
   "execution_count": null,
   "metadata": {
    "collapsed": false
   },
   "outputs": [],
   "source": [
    "x, w = topo.get_quadrature(2)\n",
    "\n",
    "dphi = basis.eval_ref(np.eye(4), x, d=1)\n",
    "rhs = Q.T.dot(np.sum(eval_basis(x)*dphi, axis=-1).ravel())\n",
    "\n",
    "spsolve(A, rhs)"
   ]
  },
  {
   "cell_type": "code",
   "execution_count": null,
   "metadata": {
    "collapsed": true
   },
   "outputs": [],
   "source": []
  }
 ],
 "metadata": {
  "kernelspec": {
   "display_name": "Python 2",
   "language": "python",
   "name": "python2"
  },
  "language_info": {
   "codemirror_mode": {
    "name": "ipython",
    "version": 2
   },
   "file_extension": ".py",
   "mimetype": "text/x-python",
   "name": "python",
   "nbconvert_exporter": "python",
   "pygments_lexer": "ipython2",
   "version": "2.7.6"
  }
 },
 "nbformat": 4,
 "nbformat_minor": 0
}
