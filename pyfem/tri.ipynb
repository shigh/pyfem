{
 "cells": [
  {
   "cell_type": "code",
   "execution_count": null,
   "metadata": {
    "collapsed": false
   },
   "outputs": [],
   "source": [
    "%matplotlib inline\n",
    "%load_ext autoreload\n",
    "%autoreload 2"
   ]
  },
  {
   "cell_type": "code",
   "execution_count": null,
   "metadata": {
    "collapsed": false
   },
   "outputs": [],
   "source": [
    "import numpy as np\n",
    "from numpy import newaxis\n",
    "from numpy.polynomial.polynomial import polyval2d\n",
    "import matplotlib.pyplot as plt\n",
    "from mpl_toolkits.mplot3d import Axes3D"
   ]
  },
  {
   "cell_type": "code",
   "execution_count": null,
   "metadata": {
    "collapsed": true
   },
   "outputs": [],
   "source": [
    "from pyfem.topo import Triangle"
   ]
  },
  {
   "cell_type": "code",
   "execution_count": null,
   "metadata": {
    "collapsed": true
   },
   "outputs": [],
   "source": [
    "p = 6"
   ]
  },
  {
   "cell_type": "code",
   "execution_count": null,
   "metadata": {
    "collapsed": false
   },
   "outputs": [],
   "source": [
    "ref = np.linspace(-1, 1, p+1)\n",
    "dof_ref = []\n",
    "\n",
    "for iy in range(p+1):\n",
    "    for ix in range((p+1)-iy):\n",
    "        dof_ref += [(ref[ix], ref[iy])]\n",
    "        \n",
    "dof_ref = np.array(dof_ref)\n",
    "n_polys = len(dof_ref)\n",
    "print n_polys"
   ]
  },
  {
   "cell_type": "code",
   "execution_count": null,
   "metadata": {
    "collapsed": false
   },
   "outputs": [],
   "source": [
    "plt.plot([-1, 1, -1, -1], [-1, -1, 1, -1], 'g--')\n",
    "for x, y in dof_ref:\n",
    "    plt.scatter(x, y, c='g')"
   ]
  },
  {
   "cell_type": "code",
   "execution_count": null,
   "metadata": {
    "collapsed": false
   },
   "outputs": [],
   "source": [
    "poly_exp = []\n",
    "for iy in range(p+1):\n",
    "    for ix in range(p+1):\n",
    "        if ix+iy<=p:\n",
    "            poly_exp += [(ix, iy)]\n",
    "\n",
    "poly_exp = np.array(poly_exp, dtype=np.int)"
   ]
  },
  {
   "cell_type": "code",
   "execution_count": null,
   "metadata": {
    "collapsed": false
   },
   "outputs": [],
   "source": [
    "xp = dof_ref[:,0][:,newaxis]\n",
    "yp = dof_ref[:,1][:,newaxis]\n",
    "A = (xp**poly_exp[:,0])*(yp**poly_exp[:,1])\n",
    "sol = np.linalg.solve(A, np.eye(len(A)))"
   ]
  },
  {
   "cell_type": "code",
   "execution_count": null,
   "metadata": {
    "collapsed": false
   },
   "outputs": [],
   "source": [
    "C = np.zeros((n_polys, p+1, p+1))\n",
    "\n",
    "ind = 0\n",
    "for px, py in poly_exp:\n",
    "    C[:,px,py] = sol[ind]\n",
    "    ind += 1"
   ]
  },
  {
   "cell_type": "code",
   "execution_count": null,
   "metadata": {
    "collapsed": false
   },
   "outputs": [],
   "source": [
    "n = 40\n",
    "xv = np.linspace(-1,1,n)\n",
    "yv = np.linspace(1,-1,n)\n",
    "X, Y = np.meshgrid(xv, yv)\n",
    "X = np.tril(X)\n",
    "Y = np.tril(Y)\n",
    "#plt.scatter(X.ravel(), Y.ravel())"
   ]
  },
  {
   "cell_type": "code",
   "execution_count": null,
   "metadata": {
    "collapsed": false
   },
   "outputs": [],
   "source": [
    "for i in range(len(C)):\n",
    "    \n",
    "#     fig = plt.figure()\n",
    "#     ax = fig.add_subplot(111, projection='3d')\n",
    "#     ax.plot_wireframe(X, Y, polyval2d(X, Y, C[i]))\n",
    "#     ax.set_title(str(i))\n",
    "#     ax.set_xlabel(\"x\")\n",
    "#     ax.set_ylabel(\"y\")\n",
    "#     plt.show()\n",
    "    \n",
    "    v = polyval2d(dof_ref[:,0], dof_ref[:,1], C[i])\n",
    "    v[np.abs(v)<1e-12] = 0.0\n",
    "    #print v"
   ]
  },
  {
   "cell_type": "code",
   "execution_count": null,
   "metadata": {
    "collapsed": true
   },
   "outputs": [],
   "source": [
    "topo = Triangle()\n",
    "\n",
    "n0 = np.array([[-1,-1],\n",
    "               [1,-1],\n",
    "               [-1,1]], dtype=np.double)\n",
    "\n",
    "n1 = n0+2\n",
    "n1[2,0] += 1.0\n",
    "n1[1,0] -= 1.25\n",
    "n1[0,1] += 0.75"
   ]
  },
  {
   "cell_type": "code",
   "execution_count": null,
   "metadata": {
    "collapsed": false
   },
   "outputs": [],
   "source": [
    "plt.plot(n1[:,0], n1[:,1], 'g--')\n",
    "plt.plot(n1[:,0][[-1,0]], n1[:,1][[-1,0]], 'g--')\n",
    "plt.plot([-1, 1, -1, -1], [-1, -1, 1, -1], 'b--')\n",
    "for x, y in dof_ref:\n",
    "    plt.scatter(x, y, c='b')\n",
    "    \n",
    "phys = topo.ref_to_phys(n1[newaxis,:,:], dof_ref)[0]\n",
    "for x, y in phys:\n",
    "    plt.scatter(x, y, c='g')\n"
   ]
  },
  {
   "cell_type": "code",
   "execution_count": null,
   "metadata": {
    "collapsed": false
   },
   "outputs": [],
   "source": [
    "jacb = topo.calc_jacb(n1[newaxis,:,:])\n",
    "jacb[0]"
   ]
  },
  {
   "cell_type": "code",
   "execution_count": null,
   "metadata": {
    "collapsed": false
   },
   "outputs": [],
   "source": [
    "x, w = topo.get_quadrature(10)"
   ]
  },
  {
   "cell_type": "code",
   "execution_count": null,
   "metadata": {
    "collapsed": false
   },
   "outputs": [],
   "source": [
    "xx = -1+((1-x[:,1])/2.0)*(x[:,0]+1)\n",
    "yy = x[:,1]\n",
    "xq = np.hstack([xx[:,newaxis],yy[:,newaxis]])\n",
    "wq = ((1-yy)/2.0)*w\n",
    "\n",
    "plt.plot([-1, 1, -1, -1], [-1, -1, 1, -1], 'b--')\n",
    "plt.scatter(xx, yy)"
   ]
  },
  {
   "cell_type": "code",
   "execution_count": null,
   "metadata": {
    "collapsed": false
   },
   "outputs": [],
   "source": [
    "len(xx)"
   ]
  },
  {
   "cell_type": "code",
   "execution_count": null,
   "metadata": {
    "collapsed": false
   },
   "outputs": [],
   "source": [
    "x2 = (xx+1)/2\n",
    "y2 = (yy+1)/2\n",
    "np.sum(np.cos(x2*y2)*np.exp(-y2**2)*wq)/4"
   ]
  },
  {
   "cell_type": "markdown",
   "metadata": {},
   "source": [
    "http://www.ajer.org/papers/v2%289%29/ZN29290293.pdf"
   ]
  },
  {
   "cell_type": "code",
   "execution_count": null,
   "metadata": {
    "collapsed": true
   },
   "outputs": [],
   "source": []
  }
 ],
 "metadata": {
  "kernelspec": {
   "display_name": "Python 2",
   "language": "python",
   "name": "python2"
  },
  "language_info": {
   "codemirror_mode": {
    "name": "ipython",
    "version": 2
   },
   "file_extension": ".py",
   "mimetype": "text/x-python",
   "name": "python",
   "nbconvert_exporter": "python",
   "pygments_lexer": "ipython2",
   "version": "2.7.6"
  }
 },
 "nbformat": 4,
 "nbformat_minor": 0
}
