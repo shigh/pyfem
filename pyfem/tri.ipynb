{
 "cells": [
  {
   "cell_type": "code",
   "execution_count": null,
   "metadata": {
    "collapsed": true
   },
   "outputs": [],
   "source": [
    "%matplotlib inline"
   ]
  },
  {
   "cell_type": "code",
   "execution_count": null,
   "metadata": {
    "collapsed": false
   },
   "outputs": [],
   "source": [
    "import numpy as np\n",
    "from numpy import newaxis\n",
    "from numpy.polynomial.polynomial import polyval2d\n",
    "import matplotlib.pyplot as plt\n",
    "from mpl_toolkits.mplot3d import Axes3D"
   ]
  },
  {
   "cell_type": "code",
   "execution_count": null,
   "metadata": {
    "collapsed": true
   },
   "outputs": [],
   "source": [
    "p = 3"
   ]
  },
  {
   "cell_type": "code",
   "execution_count": null,
   "metadata": {
    "collapsed": false
   },
   "outputs": [],
   "source": [
    "ref = np.linspace(-1, 1, p+1)\n",
    "dof_ref = []\n",
    "\n",
    "for iy in range(p+1):\n",
    "    for ix in range((p+1)-iy):\n",
    "        dof_ref += [(ref[ix], ref[iy])]\n",
    "        \n",
    "dof_ref = np.array(dof_ref)\n",
    "n_polys = len(dof_ref)\n",
    "print n_polys"
   ]
  },
  {
   "cell_type": "code",
   "execution_count": null,
   "metadata": {
    "collapsed": false
   },
   "outputs": [],
   "source": [
    "plt.plot([-1, 1, -1, -1], [-1, -1, 1, -1], 'g--')\n",
    "for x, y in dof_ref:\n",
    "    plt.scatter(x, y, c='b')"
   ]
  },
  {
   "cell_type": "code",
   "execution_count": null,
   "metadata": {
    "collapsed": false
   },
   "outputs": [],
   "source": [
    "poly_exp = []\n",
    "for iy in range(p+1):\n",
    "    for ix in range(p+1):\n",
    "        if ix+iy<=p:\n",
    "            poly_exp += [(ix, iy)]\n",
    "\n",
    "poly_exp = np.array(poly_exp, dtype=np.int)"
   ]
  },
  {
   "cell_type": "code",
   "execution_count": null,
   "metadata": {
    "collapsed": false
   },
   "outputs": [],
   "source": [
    "xp = dof_ref[:,0][:,newaxis]\n",
    "yp = dof_ref[:,1][:,newaxis]\n",
    "A = (xp**poly_exp[:,0])*(yp**poly_exp[:,1])\n",
    "sol = np.linalg.solve(A, np.eye(len(A)))"
   ]
  },
  {
   "cell_type": "code",
   "execution_count": null,
   "metadata": {
    "collapsed": false
   },
   "outputs": [],
   "source": [
    "C = np.zeros((n_polys, p+1, p+1))\n",
    "\n",
    "ind = 0\n",
    "for px, py in poly_exp:\n",
    "    C[:,px,py] = sol[ind]\n",
    "    ind += 1"
   ]
  },
  {
   "cell_type": "code",
   "execution_count": null,
   "metadata": {
    "collapsed": false
   },
   "outputs": [],
   "source": [
    "n = 40\n",
    "xv = np.linspace(-1,1,n)\n",
    "yv = np.linspace(1,-1,n)\n",
    "X, Y = np.meshgrid(xv, yv)\n",
    "X = np.tril(X)\n",
    "Y = np.tril(Y)\n",
    "#plt.scatter(X.ravel(), Y.ravel())"
   ]
  },
  {
   "cell_type": "code",
   "execution_count": null,
   "metadata": {
    "collapsed": false
   },
   "outputs": [],
   "source": [
    "for i in range(len(C)):\n",
    "    \n",
    "    fig = plt.figure()\n",
    "    ax = fig.add_subplot(111, projection='3d')\n",
    "    ax.plot_wireframe(X, Y, polyval2d(X, Y, C[i]))\n",
    "    ax.set_title(str(i))\n",
    "    ax.set_xlabel(\"x\")\n",
    "    ax.set_ylabel(\"y\")\n",
    "    plt.show()\n",
    "    \n",
    "    v = polyval2d(dof_ref[:,0], dof_ref[:,1], C[i])\n",
    "    v[np.abs(v)<1e-12] = 0.0\n",
    "    print v"
   ]
  },
  {
   "cell_type": "code",
   "execution_count": null,
   "metadata": {
    "collapsed": true
   },
   "outputs": [],
   "source": []
  }
 ],
 "metadata": {
  "kernelspec": {
   "display_name": "Python 2",
   "language": "python",
   "name": "python2"
  },
  "language_info": {
   "codemirror_mode": {
    "name": "ipython",
    "version": 2
   },
   "file_extension": ".py",
   "mimetype": "text/x-python",
   "name": "python",
   "nbconvert_exporter": "python",
   "pygments_lexer": "ipython2",
   "version": "2.7.6"
  }
 },
 "nbformat": 4,
 "nbformat_minor": 0
}
